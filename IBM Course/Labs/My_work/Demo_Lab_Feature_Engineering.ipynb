{
 "cells": [
  {
   "cell_type": "code",
   "execution_count": 1,
   "metadata": {
    "collapsed": true
   },
   "outputs": [],
   "source": [
    "def warn(*args, **kwargs):\n",
    "    pass\n",
    "import warnings\n",
    "warnings.warn = warn"
   ]
  },
  {
   "cell_type": "code",
   "execution_count": 12,
   "outputs": [],
   "source": [
    "%matplotlib inline\n",
    "%config InlineBackend.figure_formats = [\"retina\"]\n",
    "\n",
    "import pandas as pd\n",
    "import numpy as np\n",
    "import seaborn as sns\n",
    "sns.set()"
   ],
   "metadata": {
    "collapsed": false
   }
  },
  {
   "cell_type": "code",
   "execution_count": 7,
   "outputs": [],
   "source": [
    "df = pd.read_csv(\"https://cf-courses-data.s3.us.cloud-object-storage.appdomain.cloud/IBM-ML0232EN-SkillsNetwork/asset/Ames_Housing_Data.tsv\", sep='\\t')"
   ],
   "metadata": {
    "collapsed": false
   }
  },
  {
   "cell_type": "code",
   "execution_count": 8,
   "outputs": [
    {
     "name": "stdout",
     "output_type": "stream",
     "text": [
      "Number of rows in the data: 2925\n",
      "Number of columns in the data: 82\n"
     ]
    }
   ],
   "source": [
    "# This is recommended by the data set author to remove a few outliers\n",
    "\n",
    "df = df.loc[df[\"Gr Liv Area\"] <= 4000,:]\n",
    "print(\"Number of rows in the data:\", df.shape[0])\n",
    "print(\"Number of columns in the data:\", df.shape[1])\n",
    "data = df.copy() # Keep a copy our original data"
   ],
   "metadata": {
    "collapsed": false
   }
  },
  {
   "cell_type": "code",
   "execution_count": 13,
   "outputs": [
    {
     "data": {
      "text/plain": "                      0        1        2        3        4\nMS Zoning            RL       RH       RL       RL       RL\nStreet             Pave     Pave     Pave     Pave     Pave\nAlley               NaN      NaN      NaN      NaN      NaN\nLot Shape           IR1      Reg      IR1      Reg      IR1\nLand Contour        Lvl      Lvl      Lvl      Lvl      Lvl\nUtilities        AllPub   AllPub   AllPub   AllPub   AllPub\nLot Config       Corner   Inside   Corner   Corner   Inside\nLand Slope          Gtl      Gtl      Gtl      Gtl      Gtl\nNeighborhood      NAmes    NAmes    NAmes    NAmes  Gilbert\nCondition 1        Norm    Feedr     Norm     Norm     Norm\nCondition 2        Norm     Norm     Norm     Norm     Norm\nBldg Type          1Fam     1Fam     1Fam     1Fam     1Fam\nHouse Style      1Story   1Story   1Story   1Story   2Story\nRoof Style          Hip    Gable      Hip      Hip    Gable\nRoof Matl       CompShg  CompShg  CompShg  CompShg  CompShg\nExterior 1st    BrkFace  VinylSd  Wd Sdng  BrkFace  VinylSd\nExterior 2nd    Plywood  VinylSd  Wd Sdng  BrkFace  VinylSd\nMas Vnr Type      Stone     None  BrkFace     None     None\nExter Qual           TA       TA       TA       Gd       TA\nExter Cond           TA       TA       TA       TA       TA\nFoundation       CBlock   CBlock   CBlock   CBlock    PConc\nBsmt Qual            TA       TA       TA       TA       Gd\nBsmt Cond            Gd       TA       TA       TA       TA\nBsmt Exposure        Gd       No       No       No       No\nBsmtFin Type 1      BLQ      Rec      ALQ      ALQ      GLQ\nBsmtFin Type 2      Unf      LwQ      Unf      Unf      Unf\nHeating            GasA     GasA     GasA     GasA     GasA\nHeating QC           Fa       TA       TA       Ex       Gd\nCentral Air           Y        Y        Y        Y        Y\nElectrical        SBrkr    SBrkr    SBrkr    SBrkr    SBrkr\nKitchen Qual         TA       TA       Gd       Ex       TA\nFunctional          Typ      Typ      Typ      Typ      Typ\nFireplace Qu         Gd      NaN      NaN       TA       TA\nGarage Type      Attchd   Attchd   Attchd   Attchd   Attchd\nGarage Finish       Fin      Unf      Unf      Fin      Fin\nGarage Qual          TA       TA       TA       TA       TA\nGarage Cond          TA       TA       TA       TA       TA\nPaved Drive           P        Y        Y        Y        Y\nPool QC             NaN      NaN      NaN      NaN      NaN\nFence               NaN    MnPrv      NaN      NaN    MnPrv\nMisc Feature        NaN      NaN     Gar2      NaN      NaN\nSale Type           WD       WD       WD       WD       WD \nSale Condition   Normal   Normal   Normal   Normal   Normal",
      "text/html": "<div>\n<style scoped>\n    .dataframe tbody tr th:only-of-type {\n        vertical-align: middle;\n    }\n\n    .dataframe tbody tr th {\n        vertical-align: top;\n    }\n\n    .dataframe thead th {\n        text-align: right;\n    }\n</style>\n<table border=\"1\" class=\"dataframe\">\n  <thead>\n    <tr style=\"text-align: right;\">\n      <th></th>\n      <th>0</th>\n      <th>1</th>\n      <th>2</th>\n      <th>3</th>\n      <th>4</th>\n    </tr>\n  </thead>\n  <tbody>\n    <tr>\n      <th>MS Zoning</th>\n      <td>RL</td>\n      <td>RH</td>\n      <td>RL</td>\n      <td>RL</td>\n      <td>RL</td>\n    </tr>\n    <tr>\n      <th>Street</th>\n      <td>Pave</td>\n      <td>Pave</td>\n      <td>Pave</td>\n      <td>Pave</td>\n      <td>Pave</td>\n    </tr>\n    <tr>\n      <th>Alley</th>\n      <td>NaN</td>\n      <td>NaN</td>\n      <td>NaN</td>\n      <td>NaN</td>\n      <td>NaN</td>\n    </tr>\n    <tr>\n      <th>Lot Shape</th>\n      <td>IR1</td>\n      <td>Reg</td>\n      <td>IR1</td>\n      <td>Reg</td>\n      <td>IR1</td>\n    </tr>\n    <tr>\n      <th>Land Contour</th>\n      <td>Lvl</td>\n      <td>Lvl</td>\n      <td>Lvl</td>\n      <td>Lvl</td>\n      <td>Lvl</td>\n    </tr>\n    <tr>\n      <th>Utilities</th>\n      <td>AllPub</td>\n      <td>AllPub</td>\n      <td>AllPub</td>\n      <td>AllPub</td>\n      <td>AllPub</td>\n    </tr>\n    <tr>\n      <th>Lot Config</th>\n      <td>Corner</td>\n      <td>Inside</td>\n      <td>Corner</td>\n      <td>Corner</td>\n      <td>Inside</td>\n    </tr>\n    <tr>\n      <th>Land Slope</th>\n      <td>Gtl</td>\n      <td>Gtl</td>\n      <td>Gtl</td>\n      <td>Gtl</td>\n      <td>Gtl</td>\n    </tr>\n    <tr>\n      <th>Neighborhood</th>\n      <td>NAmes</td>\n      <td>NAmes</td>\n      <td>NAmes</td>\n      <td>NAmes</td>\n      <td>Gilbert</td>\n    </tr>\n    <tr>\n      <th>Condition 1</th>\n      <td>Norm</td>\n      <td>Feedr</td>\n      <td>Norm</td>\n      <td>Norm</td>\n      <td>Norm</td>\n    </tr>\n    <tr>\n      <th>Condition 2</th>\n      <td>Norm</td>\n      <td>Norm</td>\n      <td>Norm</td>\n      <td>Norm</td>\n      <td>Norm</td>\n    </tr>\n    <tr>\n      <th>Bldg Type</th>\n      <td>1Fam</td>\n      <td>1Fam</td>\n      <td>1Fam</td>\n      <td>1Fam</td>\n      <td>1Fam</td>\n    </tr>\n    <tr>\n      <th>House Style</th>\n      <td>1Story</td>\n      <td>1Story</td>\n      <td>1Story</td>\n      <td>1Story</td>\n      <td>2Story</td>\n    </tr>\n    <tr>\n      <th>Roof Style</th>\n      <td>Hip</td>\n      <td>Gable</td>\n      <td>Hip</td>\n      <td>Hip</td>\n      <td>Gable</td>\n    </tr>\n    <tr>\n      <th>Roof Matl</th>\n      <td>CompShg</td>\n      <td>CompShg</td>\n      <td>CompShg</td>\n      <td>CompShg</td>\n      <td>CompShg</td>\n    </tr>\n    <tr>\n      <th>Exterior 1st</th>\n      <td>BrkFace</td>\n      <td>VinylSd</td>\n      <td>Wd Sdng</td>\n      <td>BrkFace</td>\n      <td>VinylSd</td>\n    </tr>\n    <tr>\n      <th>Exterior 2nd</th>\n      <td>Plywood</td>\n      <td>VinylSd</td>\n      <td>Wd Sdng</td>\n      <td>BrkFace</td>\n      <td>VinylSd</td>\n    </tr>\n    <tr>\n      <th>Mas Vnr Type</th>\n      <td>Stone</td>\n      <td>None</td>\n      <td>BrkFace</td>\n      <td>None</td>\n      <td>None</td>\n    </tr>\n    <tr>\n      <th>Exter Qual</th>\n      <td>TA</td>\n      <td>TA</td>\n      <td>TA</td>\n      <td>Gd</td>\n      <td>TA</td>\n    </tr>\n    <tr>\n      <th>Exter Cond</th>\n      <td>TA</td>\n      <td>TA</td>\n      <td>TA</td>\n      <td>TA</td>\n      <td>TA</td>\n    </tr>\n    <tr>\n      <th>Foundation</th>\n      <td>CBlock</td>\n      <td>CBlock</td>\n      <td>CBlock</td>\n      <td>CBlock</td>\n      <td>PConc</td>\n    </tr>\n    <tr>\n      <th>Bsmt Qual</th>\n      <td>TA</td>\n      <td>TA</td>\n      <td>TA</td>\n      <td>TA</td>\n      <td>Gd</td>\n    </tr>\n    <tr>\n      <th>Bsmt Cond</th>\n      <td>Gd</td>\n      <td>TA</td>\n      <td>TA</td>\n      <td>TA</td>\n      <td>TA</td>\n    </tr>\n    <tr>\n      <th>Bsmt Exposure</th>\n      <td>Gd</td>\n      <td>No</td>\n      <td>No</td>\n      <td>No</td>\n      <td>No</td>\n    </tr>\n    <tr>\n      <th>BsmtFin Type 1</th>\n      <td>BLQ</td>\n      <td>Rec</td>\n      <td>ALQ</td>\n      <td>ALQ</td>\n      <td>GLQ</td>\n    </tr>\n    <tr>\n      <th>BsmtFin Type 2</th>\n      <td>Unf</td>\n      <td>LwQ</td>\n      <td>Unf</td>\n      <td>Unf</td>\n      <td>Unf</td>\n    </tr>\n    <tr>\n      <th>Heating</th>\n      <td>GasA</td>\n      <td>GasA</td>\n      <td>GasA</td>\n      <td>GasA</td>\n      <td>GasA</td>\n    </tr>\n    <tr>\n      <th>Heating QC</th>\n      <td>Fa</td>\n      <td>TA</td>\n      <td>TA</td>\n      <td>Ex</td>\n      <td>Gd</td>\n    </tr>\n    <tr>\n      <th>Central Air</th>\n      <td>Y</td>\n      <td>Y</td>\n      <td>Y</td>\n      <td>Y</td>\n      <td>Y</td>\n    </tr>\n    <tr>\n      <th>Electrical</th>\n      <td>SBrkr</td>\n      <td>SBrkr</td>\n      <td>SBrkr</td>\n      <td>SBrkr</td>\n      <td>SBrkr</td>\n    </tr>\n    <tr>\n      <th>Kitchen Qual</th>\n      <td>TA</td>\n      <td>TA</td>\n      <td>Gd</td>\n      <td>Ex</td>\n      <td>TA</td>\n    </tr>\n    <tr>\n      <th>Functional</th>\n      <td>Typ</td>\n      <td>Typ</td>\n      <td>Typ</td>\n      <td>Typ</td>\n      <td>Typ</td>\n    </tr>\n    <tr>\n      <th>Fireplace Qu</th>\n      <td>Gd</td>\n      <td>NaN</td>\n      <td>NaN</td>\n      <td>TA</td>\n      <td>TA</td>\n    </tr>\n    <tr>\n      <th>Garage Type</th>\n      <td>Attchd</td>\n      <td>Attchd</td>\n      <td>Attchd</td>\n      <td>Attchd</td>\n      <td>Attchd</td>\n    </tr>\n    <tr>\n      <th>Garage Finish</th>\n      <td>Fin</td>\n      <td>Unf</td>\n      <td>Unf</td>\n      <td>Fin</td>\n      <td>Fin</td>\n    </tr>\n    <tr>\n      <th>Garage Qual</th>\n      <td>TA</td>\n      <td>TA</td>\n      <td>TA</td>\n      <td>TA</td>\n      <td>TA</td>\n    </tr>\n    <tr>\n      <th>Garage Cond</th>\n      <td>TA</td>\n      <td>TA</td>\n      <td>TA</td>\n      <td>TA</td>\n      <td>TA</td>\n    </tr>\n    <tr>\n      <th>Paved Drive</th>\n      <td>P</td>\n      <td>Y</td>\n      <td>Y</td>\n      <td>Y</td>\n      <td>Y</td>\n    </tr>\n    <tr>\n      <th>Pool QC</th>\n      <td>NaN</td>\n      <td>NaN</td>\n      <td>NaN</td>\n      <td>NaN</td>\n      <td>NaN</td>\n    </tr>\n    <tr>\n      <th>Fence</th>\n      <td>NaN</td>\n      <td>MnPrv</td>\n      <td>NaN</td>\n      <td>NaN</td>\n      <td>MnPrv</td>\n    </tr>\n    <tr>\n      <th>Misc Feature</th>\n      <td>NaN</td>\n      <td>NaN</td>\n      <td>Gar2</td>\n      <td>NaN</td>\n      <td>NaN</td>\n    </tr>\n    <tr>\n      <th>Sale Type</th>\n      <td>WD</td>\n      <td>WD</td>\n      <td>WD</td>\n      <td>WD</td>\n      <td>WD</td>\n    </tr>\n    <tr>\n      <th>Sale Condition</th>\n      <td>Normal</td>\n      <td>Normal</td>\n      <td>Normal</td>\n      <td>Normal</td>\n      <td>Normal</td>\n    </tr>\n  </tbody>\n</table>\n</div>"
     },
     "execution_count": 13,
     "metadata": {},
     "output_type": "execute_result"
    }
   ],
   "source": [
    "# Finding all the categorical features\n",
    "\n",
    "one_hot_encode_cols = df.dtypes[df.dtypes == np.object]\n",
    "one_hot_encode_cols = one_hot_encode_cols.index.tolist()\n",
    "\n",
    "df[one_hot_encode_cols].head().T"
   ],
   "metadata": {
    "collapsed": false
   }
  },
  {
   "cell_type": "code",
   "execution_count": null,
   "outputs": [],
   "source": [],
   "metadata": {
    "collapsed": false
   }
  }
 ],
 "metadata": {
  "kernelspec": {
   "display_name": "Python 3",
   "language": "python",
   "name": "python3"
  },
  "language_info": {
   "codemirror_mode": {
    "name": "ipython",
    "version": 2
   },
   "file_extension": ".py",
   "mimetype": "text/x-python",
   "name": "python",
   "nbconvert_exporter": "python",
   "pygments_lexer": "ipython2",
   "version": "2.7.6"
  }
 },
 "nbformat": 4,
 "nbformat_minor": 0
}
