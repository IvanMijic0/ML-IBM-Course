{
 "cells": [
  {
   "cell_type": "code",
   "execution_count": 5,
   "metadata": {
    "collapsed": true
   },
   "outputs": [],
   "source": [
    "# Imports\n",
    "import sqlite3 as sq3\n",
    "import pandas as pd"
   ]
  },
  {
   "cell_type": "code",
   "execution_count": 6,
   "outputs": [],
   "source": [
    "path = \"C:/Users/User/PycharmProjects/ML-IBM-Course/IBM Course/data/SQL/baseball.db\"\n",
    "con = sq3.Connection(path)"
   ],
   "metadata": {
    "collapsed": false
   }
  },
  {
   "cell_type": "code",
   "execution_count": 19,
   "outputs": [
    {
     "name": "stdout",
     "output_type": "stream",
     "text": [
      "    type                  name     tbl_name  rootpage  \\\n",
      "0  table           allstarfull  allstarfull         2   \n",
      "1  index  ix_allstarfull_index  allstarfull         3   \n",
      "2  table               schools      schools        26   \n",
      "3  index      ix_schools_index      schools        31   \n",
      "4  table               batting      batting        99   \n",
      "5  index      ix_batting_index      batting       100   \n",
      "\n",
      "                                                 sql  \n",
      "0  CREATE TABLE \"allstarfull\" (\\n\"index\" INTEGER,...  \n",
      "1  CREATE INDEX \"ix_allstarfull_index\"ON \"allstar...  \n",
      "2  CREATE TABLE \"schools\" (\\n\"index\" INTEGER,\\n  ...  \n",
      "3  CREATE INDEX \"ix_schools_index\"ON \"schools\" (\"...  \n",
      "4  CREATE TABLE \"batting\" (\\n\"index\" INTEGER,\\n  ...  \n",
      "5  CREATE INDEX \"ix_batting_index\"ON \"batting\" (\"...  \n"
     ]
    }
   ],
   "source": [
    "query = \"\"\"\n",
    "SELECT *\n",
    "    FROM allstarfull\n",
    "    ;\n",
    "\n",
    "\"\"\"\n",
    "allstar_observations = pd.read_sql(query, con)\n",
    "#print(allstar_observations)\n",
    "all_tables = pd.read_sql(\"SELECT * FROM sqlite_master\", con)\n",
    "print(all_tables)"
   ],
   "metadata": {
    "collapsed": false
   }
  },
  {
   "cell_type": "code",
   "execution_count": 20,
   "outputs": [
    {
     "name": "stdout",
     "output_type": "stream",
     "text": [
      "    playerID  num_games_played  avg_starting_position\n",
      "0  musiast01              24.0               6.357143\n",
      "1   mayswi01              24.0               8.000000\n",
      "2  aaronha01              24.0               8.470588\n"
     ]
    }
   ],
   "source": [
    "best_querry = \"\"\"\n",
    "SELECT playerID, SUM(GP) as num_games_played, AVG(startingPos) AS avg_starting_position\n",
    "    FROM allstarfull\n",
    "    GROUP BY playerID\n",
    "    ORDER BY num_games_played DESC, avg_starting_position ASC\n",
    "    LIMIT 3\n",
    "\"\"\"\n",
    "\n",
    "best = pd.read_sql(best_querry, con)\n",
    "print(best.head())"
   ],
   "metadata": {
    "collapsed": false
   }
  }
 ],
 "metadata": {
  "kernelspec": {
   "display_name": "Python 3",
   "language": "python",
   "name": "python3"
  },
  "language_info": {
   "codemirror_mode": {
    "name": "ipython",
    "version": 2
   },
   "file_extension": ".py",
   "mimetype": "text/x-python",
   "name": "python",
   "nbconvert_exporter": "python",
   "pygments_lexer": "ipython2",
   "version": "2.7.6"
  }
 },
 "nbformat": 4,
 "nbformat_minor": 0
}
